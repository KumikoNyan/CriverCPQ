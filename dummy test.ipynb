{
 "cells": [
  {
   "cell_type": "markdown",
   "metadata": {},
   "source": [
    "instructions\n",
    "\n",
    "first do pip install google-auth google-auth-oauthlib google-auth-httplib2 google-api-python-client reportlab\n",
    "We need to go to GCC, enable Google Drive API, Create OAuth, download credentials.json, place in directory\n",
    "\n",
    "views.py"
   ]
  },
  {
   "cell_type": "code",
   "execution_count": null,
   "metadata": {},
   "outputs": [],
   "source": [
    "from google.oauth2.service_account import Credentials\n",
    "from googleapiclient.discovery import build\n",
    "from googleapiclient.http import MediaFileUpload\n",
    "\n",
    "\n",
    "def upload_to_drive(file_path):\n",
    "    \"\"\"Uploads a file to Google Drive.\"\"\"\n",
    "    SCOPES = ['https://www.googleapis.com/auth/drive.file']\n",
    "    \n",
    "    creds = Credentials.from_service_account_file('credentials.json', scopes=SCOPES)\n",
    "    service = build('drive', 'v3', credentials=creds)\n",
    "\n",
    "    file_metadata = {\n",
    "        'name': os.path.basename(file_path),\n",
    "        'mimeType': 'application/pdf'\n",
    "    }\n",
    "    media = MediaFileUpload(file_path, mimetype='application/pdf')\n",
    "\n",
    "    file = service.files().create(body=file_metadata, media_body=media, fields='id').execute()\n",
    "    return file.get('id')  # Returns the file ID from Google Drive"
   ]
  },
  {
   "cell_type": "markdown",
   "metadata": {},
   "source": [
    "If we want to do it so that it cleans up the local copy as well"
   ]
  },
  {
   "cell_type": "code",
   "execution_count": null,
   "metadata": {},
   "outputs": [],
   "source": [
    "from django.shortcuts import render\n",
    "from django.http import JsonResponse\n",
    "def generate_and_upload_pdf(request):\n",
    "    \"\"\"Generates a PDF and uploads it to Google Drive.\"\"\"\n",
    "    pdf_path = generate_pdf()  # Create PDF\n",
    "    file_id = upload_to_drive(pdf_path)  # Upload to Google Drive\n",
    "    \n",
    "    os.remove(pdf_path)  # Cleanup local file\n",
    "\n",
    "    return JsonResponse({'message': 'PDF uploaded successfully!', 'file_id': file_id})"
   ]
  }
 ],
 "metadata": {
  "language_info": {
   "name": "python"
  }
 },
 "nbformat": 4,
 "nbformat_minor": 2
}
